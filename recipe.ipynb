{
 "cells": [
  {
   "cell_type": "code",
   "execution_count": 2,
   "metadata": {},
   "outputs": [],
   "source": [
    "import pandas as pd"
   ]
  },
  {
   "cell_type": "markdown",
   "metadata": {},
   "source": [
    "# Data Cleaning"
   ]
  },
  {
   "cell_type": "code",
   "execution_count": 3,
   "metadata": {},
   "outputs": [],
   "source": [
    "df_recipe = pd.read_csv(\"dataset-ayam.csv\")"
   ]
  },
  {
   "cell_type": "code",
   "execution_count": 4,
   "metadata": {},
   "outputs": [
    {
     "name": "stdout",
     "output_type": "stream",
     "text": [
      "<class 'pandas.core.frame.DataFrame'>\n",
      "RangeIndex: 1916 entries, 0 to 1915\n",
      "Data columns (total 5 columns):\n",
      " #   Column       Non-Null Count  Dtype \n",
      "---  ------       --------------  ----- \n",
      " 0   Title        1916 non-null   object\n",
      " 1   Ingredients  1901 non-null   object\n",
      " 2   Steps        1901 non-null   object\n",
      " 3   Loves        1916 non-null   int64 \n",
      " 4   URL          1916 non-null   object\n",
      "dtypes: int64(1), object(4)\n",
      "memory usage: 75.0+ KB\n"
     ]
    }
   ],
   "source": [
    "df_recipe.info()"
   ]
  },
  {
   "cell_type": "code",
   "execution_count": 5,
   "metadata": {},
   "outputs": [
    {
     "data": {
      "text/plain": [
       "Title           0\n",
       "Ingredients    15\n",
       "Steps          15\n",
       "Loves           0\n",
       "URL             0\n",
       "dtype: int64"
      ]
     },
     "execution_count": 5,
     "metadata": {},
     "output_type": "execute_result"
    }
   ],
   "source": [
    "# Cek jumlah data yang kosong di setiap kolom\n",
    "df_recipe.isnull().sum()"
   ]
  },
  {
   "cell_type": "code",
   "execution_count": 6,
   "metadata": {},
   "outputs": [
    {
     "data": {
      "text/html": [
       "<div>\n",
       "<style scoped>\n",
       "    .dataframe tbody tr th:only-of-type {\n",
       "        vertical-align: middle;\n",
       "    }\n",
       "\n",
       "    .dataframe tbody tr th {\n",
       "        vertical-align: top;\n",
       "    }\n",
       "\n",
       "    .dataframe thead th {\n",
       "        text-align: right;\n",
       "    }\n",
       "</style>\n",
       "<table border=\"1\" class=\"dataframe\">\n",
       "  <thead>\n",
       "    <tr style=\"text-align: right;\">\n",
       "      <th></th>\n",
       "      <th>column</th>\n",
       "      <th>missing_percentage</th>\n",
       "    </tr>\n",
       "  </thead>\n",
       "  <tbody>\n",
       "    <tr>\n",
       "      <th>Ingredients</th>\n",
       "      <td>Ingredients</td>\n",
       "      <td>0.782881</td>\n",
       "    </tr>\n",
       "    <tr>\n",
       "      <th>Steps</th>\n",
       "      <td>Steps</td>\n",
       "      <td>0.782881</td>\n",
       "    </tr>\n",
       "  </tbody>\n",
       "</table>\n",
       "</div>"
      ],
      "text/plain": [
       "                  column  missing_percentage\n",
       "Ingredients  Ingredients            0.782881\n",
       "Steps              Steps            0.782881"
      ]
     },
     "execution_count": 6,
     "metadata": {},
     "output_type": "execute_result"
    }
   ],
   "source": [
    "# Hitung jumlah total baris\n",
    "total_rows = len(df_recipe)\n",
    "\n",
    "# Hitung persentase missing values per kolom\n",
    "missing_percentage = (df_recipe.isnull().sum() / total_rows) * 100\n",
    "\n",
    "# Menampilkan hasil dalam bentuk dataframe agar lebih rapi\n",
    "missing_df = pd.DataFrame({'column': df_recipe.columns, 'missing_percentage': missing_percentage})\n",
    "\n",
    "# Menampilkan hanya kolom dengan missing values\n",
    "missing_df[missing_df['missing_percentage'] > 0].sort_values(by='missing_percentage', ascending=False)"
   ]
  },
  {
   "cell_type": "code",
   "execution_count": 7,
   "metadata": {},
   "outputs": [
    {
     "data": {
      "text/plain": [
       "1.0"
      ]
     },
     "execution_count": 7,
     "metadata": {},
     "output_type": "execute_result"
    }
   ],
   "source": [
    "len(df_recipe.drop_duplicates()) / len(df_recipe)\n",
    "#jika output dari code di cell ini tidak bernilai 1 maka terdapat duplikat"
   ]
  },
  {
   "cell_type": "markdown",
   "metadata": {},
   "source": [
    "## Data Cleaning Review"
   ]
  },
  {
   "cell_type": "markdown",
   "metadata": {},
   "source": [
    "1. Terdapat missing value sebanyak 15 baris dengan value NaN atau sekitar 0.78% dari total data\n",
    "2. Tidak ada duplikated data pada dataset ini"
   ]
  },
  {
   "cell_type": "code",
   "execution_count": 8,
   "metadata": {},
   "outputs": [
    {
     "data": {
      "text/html": [
       "<div>\n",
       "<style scoped>\n",
       "    .dataframe tbody tr th:only-of-type {\n",
       "        vertical-align: middle;\n",
       "    }\n",
       "\n",
       "    .dataframe tbody tr th {\n",
       "        vertical-align: top;\n",
       "    }\n",
       "\n",
       "    .dataframe thead th {\n",
       "        text-align: right;\n",
       "    }\n",
       "</style>\n",
       "<table border=\"1\" class=\"dataframe\">\n",
       "  <thead>\n",
       "    <tr style=\"text-align: right;\">\n",
       "      <th></th>\n",
       "      <th>Title</th>\n",
       "      <th>Ingredients</th>\n",
       "      <th>Steps</th>\n",
       "      <th>Loves</th>\n",
       "      <th>URL</th>\n",
       "    </tr>\n",
       "  </thead>\n",
       "  <tbody>\n",
       "    <tr>\n",
       "      <th>0</th>\n",
       "      <td>Ayam Woku Manado</td>\n",
       "      <td>1 Ekor Ayam Kampung (potong 12)--2 Buah Jeruk ...</td>\n",
       "      <td>Cuci bersih ayam dan tiriskan. Lalu peras jeru...</td>\n",
       "      <td>1</td>\n",
       "      <td>/id/resep/4473027-ayam-woku-manado</td>\n",
       "    </tr>\n",
       "    <tr>\n",
       "      <th>1</th>\n",
       "      <td>Ayam goreng tulang lunak</td>\n",
       "      <td>1 kg ayam (dipotong sesuai selera jangan kecil...</td>\n",
       "      <td>Haluskan bumbu2nya (BaPut, ketumbar, kemiri, k...</td>\n",
       "      <td>1</td>\n",
       "      <td>/id/resep/4471956-ayam-goreng-tulang-lunak</td>\n",
       "    </tr>\n",
       "    <tr>\n",
       "      <th>2</th>\n",
       "      <td>Ayam cabai kawin</td>\n",
       "      <td>1/4 kg ayam--3 buah cabai hijau besar--7 buah ...</td>\n",
       "      <td>Panaskan minyak di dalam wajan. Setelah minyak...</td>\n",
       "      <td>2</td>\n",
       "      <td>/id/resep/4473057-ayam-cabai-kawin</td>\n",
       "    </tr>\n",
       "    <tr>\n",
       "      <th>3</th>\n",
       "      <td>Ayam Geprek</td>\n",
       "      <td>250 gr daging ayam (saya pakai fillet)--Secuku...</td>\n",
       "      <td>Goreng ayam seperti ayam krispi--Ulek semua ba...</td>\n",
       "      <td>10</td>\n",
       "      <td>/id/resep/4473023-ayam-geprek</td>\n",
       "    </tr>\n",
       "    <tr>\n",
       "      <th>4</th>\n",
       "      <td>Minyak Ayam</td>\n",
       "      <td>400 gr kulit ayam &amp; lemaknya--8 siung bawang p...</td>\n",
       "      <td>Cuci bersih kulit ayam. Sisihkan--Ambil 50 ml ...</td>\n",
       "      <td>4</td>\n",
       "      <td>/id/resep/4427438-minyak-ayam</td>\n",
       "    </tr>\n",
       "  </tbody>\n",
       "</table>\n",
       "</div>"
      ],
      "text/plain": [
       "                      Title  \\\n",
       "0          Ayam Woku Manado   \n",
       "1  Ayam goreng tulang lunak   \n",
       "2          Ayam cabai kawin   \n",
       "3               Ayam Geprek   \n",
       "4               Minyak Ayam   \n",
       "\n",
       "                                         Ingredients  \\\n",
       "0  1 Ekor Ayam Kampung (potong 12)--2 Buah Jeruk ...   \n",
       "1  1 kg ayam (dipotong sesuai selera jangan kecil...   \n",
       "2  1/4 kg ayam--3 buah cabai hijau besar--7 buah ...   \n",
       "3  250 gr daging ayam (saya pakai fillet)--Secuku...   \n",
       "4  400 gr kulit ayam & lemaknya--8 siung bawang p...   \n",
       "\n",
       "                                               Steps  Loves  \\\n",
       "0  Cuci bersih ayam dan tiriskan. Lalu peras jeru...      1   \n",
       "1  Haluskan bumbu2nya (BaPut, ketumbar, kemiri, k...      1   \n",
       "2  Panaskan minyak di dalam wajan. Setelah minyak...      2   \n",
       "3  Goreng ayam seperti ayam krispi--Ulek semua ba...     10   \n",
       "4  Cuci bersih kulit ayam. Sisihkan--Ambil 50 ml ...      4   \n",
       "\n",
       "                                          URL  \n",
       "0          /id/resep/4473027-ayam-woku-manado  \n",
       "1  /id/resep/4471956-ayam-goreng-tulang-lunak  \n",
       "2          /id/resep/4473057-ayam-cabai-kawin  \n",
       "3               /id/resep/4473023-ayam-geprek  \n",
       "4               /id/resep/4427438-minyak-ayam  "
      ]
     },
     "execution_count": 8,
     "metadata": {},
     "output_type": "execute_result"
    }
   ],
   "source": [
    "df_recipe.head()"
   ]
  },
  {
   "cell_type": "code",
   "execution_count": 10,
   "metadata": {},
   "outputs": [],
   "source": [
    "most_loved_recipes = df_recipe.sort_values(by='Loves', ascending=False).head(10)"
   ]
  },
  {
   "cell_type": "code",
   "execution_count": 11,
   "metadata": {},
   "outputs": [
    {
     "data": {
      "text/html": [
       "<div>\n",
       "<style scoped>\n",
       "    .dataframe tbody tr th:only-of-type {\n",
       "        vertical-align: middle;\n",
       "    }\n",
       "\n",
       "    .dataframe tbody tr th {\n",
       "        vertical-align: top;\n",
       "    }\n",
       "\n",
       "    .dataframe thead th {\n",
       "        text-align: right;\n",
       "    }\n",
       "</style>\n",
       "<table border=\"1\" class=\"dataframe\">\n",
       "  <thead>\n",
       "    <tr style=\"text-align: right;\">\n",
       "      <th></th>\n",
       "      <th>Title</th>\n",
       "      <th>Ingredients</th>\n",
       "      <th>Steps</th>\n",
       "      <th>Loves</th>\n",
       "      <th>URL</th>\n",
       "    </tr>\n",
       "  </thead>\n",
       "  <tbody>\n",
       "    <tr>\n",
       "      <th>1635</th>\n",
       "      <td>Ayam Goreng Bawang Khas Batam</td>\n",
       "      <td>1/2 ekor ayam bagian apa saja,potong kecil\"--1...</td>\n",
       "      <td>Cuci ayam hingga bersih kemudian tiriskan masu...</td>\n",
       "      <td>237</td>\n",
       "      <td>/id/resep/4345660-ayam-goreng-bawang-khas-batam</td>\n",
       "    </tr>\n",
       "    <tr>\n",
       "      <th>1065</th>\n",
       "      <td>Ayam Goreng Kecap</td>\n",
       "      <td>1/2 ekor ayam, Potong-potong--1/2 bawang bomba...</td>\n",
       "      <td>Lumuri ayam dg air jeruknipus dan garam, remas...</td>\n",
       "      <td>218</td>\n",
       "      <td>/id/resep/4379354-ayam-goreng-kecap</td>\n",
       "    </tr>\n",
       "    <tr>\n",
       "      <th>1690</th>\n",
       "      <td>Mie Ayam</td>\n",
       "      <td>1/2 kg mie telur--1/2 ekor ayam--1 buah bawang...</td>\n",
       "      <td>Rebus mie telur sampai matang--Rebus ayam hing...</td>\n",
       "      <td>194</td>\n",
       "      <td>/id/resep/4337966-mie-ayam</td>\n",
       "    </tr>\n",
       "    <tr>\n",
       "      <th>1471</th>\n",
       "      <td>Menu dinner trio tumis - pokcoy, ayam bawang p...</td>\n",
       "      <td>⭐️ Tumis pokcoy:--4 batang pokcoy--2 siung baw...</td>\n",
       "      <td>⭐️ Tumis pokcoy: pokcoy cuci bersih, potong. P...</td>\n",
       "      <td>170</td>\n",
       "      <td>/id/resep/4355199-menu-dinner-trio-tumis-pokco...</td>\n",
       "    </tr>\n",
       "    <tr>\n",
       "      <th>1466</th>\n",
       "      <td>Ayam Woku Manado</td>\n",
       "      <td>Bumbu Halus--6 Bawang Merah--4 Bawang putih--3...</td>\n",
       "      <td>Rebus Ayam di air Mendidih 7 Menit, buang koto...</td>\n",
       "      <td>169</td>\n",
       "      <td>/id/resep/4349267-ayam-woku-manado</td>\n",
       "    </tr>\n",
       "    <tr>\n",
       "      <th>1841</th>\n",
       "      <td>The Best Ayam Goreng Mentega</td>\n",
       "      <td>1 Ekor ayam dipotong menjadi 16 atau 32 sesuai...</td>\n",
       "      <td>Campurkan bawang putih, kecap inggris, kecap a...</td>\n",
       "      <td>166</td>\n",
       "      <td>/id/resep/4319124-the-best-ayam-goreng-mentega</td>\n",
       "    </tr>\n",
       "    <tr>\n",
       "      <th>88</th>\n",
       "      <td>Ayam Kecap Manis Cabai</td>\n",
       "      <td>500 gr ayam--3 siung bw putih, geprek cincang-...</td>\n",
       "      <td>Tumis bw putih, cabe dan merica bubuk hingga l...</td>\n",
       "      <td>164</td>\n",
       "      <td>/id/resep/4467275-ayam-kecap-manis-cabai</td>\n",
       "    </tr>\n",
       "    <tr>\n",
       "      <th>1618</th>\n",
       "      <td>Crispy chicken honey spicy / ayam goreng madu ...</td>\n",
       "      <td>1 kg ayam kurang lebih (saya beli bagian paha)...</td>\n",
       "      <td>Pertama panaskan minyak di kuali,,--Sembari me...</td>\n",
       "      <td>155</td>\n",
       "      <td>/id/resep/4347114-crispy-chicken-honey-spicy-a...</td>\n",
       "    </tr>\n",
       "    <tr>\n",
       "      <th>1663</th>\n",
       "      <td>Kalio Ati Ampela Ayam</td>\n",
       "      <td>3 pasang ati ampela ayam (potong-potong)--Bumb...</td>\n",
       "      <td>Tumis bumbu halus dan bumbu cemplung hingga ha...</td>\n",
       "      <td>151</td>\n",
       "      <td>/id/resep/4343668-kalio-ati-ampela-ayam</td>\n",
       "    </tr>\n",
       "    <tr>\n",
       "      <th>1872</th>\n",
       "      <td>Chicken Katsu</td>\n",
       "      <td>500 gram fillet ayam bagian dada--1 sdm garam-...</td>\n",
       "      <td>Potong potong fillet ayam dengan ukuran sesuai...</td>\n",
       "      <td>149</td>\n",
       "      <td>/id/resep/4316348-chicken-katsu</td>\n",
       "    </tr>\n",
       "  </tbody>\n",
       "</table>\n",
       "</div>"
      ],
      "text/plain": [
       "                                                  Title  \\\n",
       "1635                      Ayam Goreng Bawang Khas Batam   \n",
       "1065                                  Ayam Goreng Kecap   \n",
       "1690                                           Mie Ayam   \n",
       "1471  Menu dinner trio tumis - pokcoy, ayam bawang p...   \n",
       "1466                                   Ayam Woku Manado   \n",
       "1841                       The Best Ayam Goreng Mentega   \n",
       "88                               Ayam Kecap Manis Cabai   \n",
       "1618  Crispy chicken honey spicy / ayam goreng madu ...   \n",
       "1663                              Kalio Ati Ampela Ayam   \n",
       "1872                                      Chicken Katsu   \n",
       "\n",
       "                                            Ingredients  \\\n",
       "1635  1/2 ekor ayam bagian apa saja,potong kecil\"--1...   \n",
       "1065  1/2 ekor ayam, Potong-potong--1/2 bawang bomba...   \n",
       "1690  1/2 kg mie telur--1/2 ekor ayam--1 buah bawang...   \n",
       "1471  ⭐️ Tumis pokcoy:--4 batang pokcoy--2 siung baw...   \n",
       "1466  Bumbu Halus--6 Bawang Merah--4 Bawang putih--3...   \n",
       "1841  1 Ekor ayam dipotong menjadi 16 atau 32 sesuai...   \n",
       "88    500 gr ayam--3 siung bw putih, geprek cincang-...   \n",
       "1618  1 kg ayam kurang lebih (saya beli bagian paha)...   \n",
       "1663  3 pasang ati ampela ayam (potong-potong)--Bumb...   \n",
       "1872  500 gram fillet ayam bagian dada--1 sdm garam-...   \n",
       "\n",
       "                                                  Steps  Loves  \\\n",
       "1635  Cuci ayam hingga bersih kemudian tiriskan masu...    237   \n",
       "1065  Lumuri ayam dg air jeruknipus dan garam, remas...    218   \n",
       "1690  Rebus mie telur sampai matang--Rebus ayam hing...    194   \n",
       "1471  ⭐️ Tumis pokcoy: pokcoy cuci bersih, potong. P...    170   \n",
       "1466  Rebus Ayam di air Mendidih 7 Menit, buang koto...    169   \n",
       "1841  Campurkan bawang putih, kecap inggris, kecap a...    166   \n",
       "88    Tumis bw putih, cabe dan merica bubuk hingga l...    164   \n",
       "1618  Pertama panaskan minyak di kuali,,--Sembari me...    155   \n",
       "1663  Tumis bumbu halus dan bumbu cemplung hingga ha...    151   \n",
       "1872  Potong potong fillet ayam dengan ukuran sesuai...    149   \n",
       "\n",
       "                                                    URL  \n",
       "1635    /id/resep/4345660-ayam-goreng-bawang-khas-batam  \n",
       "1065                /id/resep/4379354-ayam-goreng-kecap  \n",
       "1690                         /id/resep/4337966-mie-ayam  \n",
       "1471  /id/resep/4355199-menu-dinner-trio-tumis-pokco...  \n",
       "1466                 /id/resep/4349267-ayam-woku-manado  \n",
       "1841     /id/resep/4319124-the-best-ayam-goreng-mentega  \n",
       "88             /id/resep/4467275-ayam-kecap-manis-cabai  \n",
       "1618  /id/resep/4347114-crispy-chicken-honey-spicy-a...  \n",
       "1663            /id/resep/4343668-kalio-ati-ampela-ayam  \n",
       "1872                    /id/resep/4316348-chicken-katsu  "
      ]
     },
     "execution_count": 11,
     "metadata": {},
     "output_type": "execute_result"
    }
   ],
   "source": [
    "most_loved_recipes"
   ]
  },
  {
   "cell_type": "code",
   "execution_count": null,
   "metadata": {},
   "outputs": [],
   "source": []
  }
 ],
 "metadata": {
  "kernelspec": {
   "display_name": "Finpro",
   "language": "python",
   "name": "python3"
  },
  "language_info": {
   "codemirror_mode": {
    "name": "ipython",
    "version": 3
   },
   "file_extension": ".py",
   "mimetype": "text/x-python",
   "name": "python",
   "nbconvert_exporter": "python",
   "pygments_lexer": "ipython3",
   "version": "3.13.2"
  }
 },
 "nbformat": 4,
 "nbformat_minor": 2
}
